{
 "cells": [],
 "metadata": {
  "kernelspec": {
   "display_name": "Python 3.9.13 64-bit (microsoft store)",
   "language": "python",
   "name": "python3"
  },
  "language_info": {
   "name": "python",
   "version": "3.9.13"
  },
  "orig_nbformat": 4,
  "vscode": {
   "interpreter": {
    "hash": "afc37d813dc2fe95b30844a70939e2659ed9aee6e2e67a3991b6c9eb935196c5"
   }
  }
 },
 "nbformat": 4,
 "nbformat_minor": 2
}
